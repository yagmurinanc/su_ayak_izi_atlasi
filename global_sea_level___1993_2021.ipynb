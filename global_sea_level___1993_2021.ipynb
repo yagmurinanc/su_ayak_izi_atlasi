{
  "nbformat": 4,
  "nbformat_minor": 0,
  "metadata": {
    "colab": {
      "provenance": [],
      "collapsed_sections": []
    },
    "kernelspec": {
      "name": "python3",
      "display_name": "Python 3"
    },
    "language_info": {
      "name": "python"
    }
  },
  "cells": [
    {
      "cell_type": "markdown",
      "source": [
        "#Importing the Dataset"
      ],
      "metadata": {
        "id": "wYstfXNg66uB"
      }
    },
    {
      "cell_type": "code",
      "source": [
        "! pip install -q kaggle"
      ],
      "metadata": {
        "id": "0WHB8Ns6wUS8"
      },
      "execution_count": null,
      "outputs": []
    },
    {
      "cell_type": "code",
      "source": [
        "from google.colab import files\n",
        "files.upload()"
      ],
      "metadata": {
        "colab": {
          "base_uri": "https://localhost:8080/",
          "height": 91
        },
        "id": "v2sMbKh0wmgT",
        "outputId": "d4f25a81-bf85-480a-a49a-c07c7e487c70"
      },
      "execution_count": null,
      "outputs": [
        {
          "output_type": "display_data",
          "data": {
            "text/plain": [
              "<IPython.core.display.HTML object>"
            ],
            "text/html": [
              "\n",
              "     <input type=\"file\" id=\"files-e94b4f80-07d6-422f-abf1-5b8e1e287bc0\" name=\"files[]\" multiple disabled\n",
              "        style=\"border:none\" />\n",
              "     <output id=\"result-e94b4f80-07d6-422f-abf1-5b8e1e287bc0\">\n",
              "      Upload widget is only available when the cell has been executed in the\n",
              "      current browser session. Please rerun this cell to enable.\n",
              "      </output>\n",
              "      <script>// Copyright 2017 Google LLC\n",
              "//\n",
              "// Licensed under the Apache License, Version 2.0 (the \"License\");\n",
              "// you may not use this file except in compliance with the License.\n",
              "// You may obtain a copy of the License at\n",
              "//\n",
              "//      http://www.apache.org/licenses/LICENSE-2.0\n",
              "//\n",
              "// Unless required by applicable law or agreed to in writing, software\n",
              "// distributed under the License is distributed on an \"AS IS\" BASIS,\n",
              "// WITHOUT WARRANTIES OR CONDITIONS OF ANY KIND, either express or implied.\n",
              "// See the License for the specific language governing permissions and\n",
              "// limitations under the License.\n",
              "\n",
              "/**\n",
              " * @fileoverview Helpers for google.colab Python module.\n",
              " */\n",
              "(function(scope) {\n",
              "function span(text, styleAttributes = {}) {\n",
              "  const element = document.createElement('span');\n",
              "  element.textContent = text;\n",
              "  for (const key of Object.keys(styleAttributes)) {\n",
              "    element.style[key] = styleAttributes[key];\n",
              "  }\n",
              "  return element;\n",
              "}\n",
              "\n",
              "// Max number of bytes which will be uploaded at a time.\n",
              "const MAX_PAYLOAD_SIZE = 100 * 1024;\n",
              "\n",
              "function _uploadFiles(inputId, outputId) {\n",
              "  const steps = uploadFilesStep(inputId, outputId);\n",
              "  const outputElement = document.getElementById(outputId);\n",
              "  // Cache steps on the outputElement to make it available for the next call\n",
              "  // to uploadFilesContinue from Python.\n",
              "  outputElement.steps = steps;\n",
              "\n",
              "  return _uploadFilesContinue(outputId);\n",
              "}\n",
              "\n",
              "// This is roughly an async generator (not supported in the browser yet),\n",
              "// where there are multiple asynchronous steps and the Python side is going\n",
              "// to poll for completion of each step.\n",
              "// This uses a Promise to block the python side on completion of each step,\n",
              "// then passes the result of the previous step as the input to the next step.\n",
              "function _uploadFilesContinue(outputId) {\n",
              "  const outputElement = document.getElementById(outputId);\n",
              "  const steps = outputElement.steps;\n",
              "\n",
              "  const next = steps.next(outputElement.lastPromiseValue);\n",
              "  return Promise.resolve(next.value.promise).then((value) => {\n",
              "    // Cache the last promise value to make it available to the next\n",
              "    // step of the generator.\n",
              "    outputElement.lastPromiseValue = value;\n",
              "    return next.value.response;\n",
              "  });\n",
              "}\n",
              "\n",
              "/**\n",
              " * Generator function which is called between each async step of the upload\n",
              " * process.\n",
              " * @param {string} inputId Element ID of the input file picker element.\n",
              " * @param {string} outputId Element ID of the output display.\n",
              " * @return {!Iterable<!Object>} Iterable of next steps.\n",
              " */\n",
              "function* uploadFilesStep(inputId, outputId) {\n",
              "  const inputElement = document.getElementById(inputId);\n",
              "  inputElement.disabled = false;\n",
              "\n",
              "  const outputElement = document.getElementById(outputId);\n",
              "  outputElement.innerHTML = '';\n",
              "\n",
              "  const pickedPromise = new Promise((resolve) => {\n",
              "    inputElement.addEventListener('change', (e) => {\n",
              "      resolve(e.target.files);\n",
              "    });\n",
              "  });\n",
              "\n",
              "  const cancel = document.createElement('button');\n",
              "  inputElement.parentElement.appendChild(cancel);\n",
              "  cancel.textContent = 'Cancel upload';\n",
              "  const cancelPromise = new Promise((resolve) => {\n",
              "    cancel.onclick = () => {\n",
              "      resolve(null);\n",
              "    };\n",
              "  });\n",
              "\n",
              "  // Wait for the user to pick the files.\n",
              "  const files = yield {\n",
              "    promise: Promise.race([pickedPromise, cancelPromise]),\n",
              "    response: {\n",
              "      action: 'starting',\n",
              "    }\n",
              "  };\n",
              "\n",
              "  cancel.remove();\n",
              "\n",
              "  // Disable the input element since further picks are not allowed.\n",
              "  inputElement.disabled = true;\n",
              "\n",
              "  if (!files) {\n",
              "    return {\n",
              "      response: {\n",
              "        action: 'complete',\n",
              "      }\n",
              "    };\n",
              "  }\n",
              "\n",
              "  for (const file of files) {\n",
              "    const li = document.createElement('li');\n",
              "    li.append(span(file.name, {fontWeight: 'bold'}));\n",
              "    li.append(span(\n",
              "        `(${file.type || 'n/a'}) - ${file.size} bytes, ` +\n",
              "        `last modified: ${\n",
              "            file.lastModifiedDate ? file.lastModifiedDate.toLocaleDateString() :\n",
              "                                    'n/a'} - `));\n",
              "    const percent = span('0% done');\n",
              "    li.appendChild(percent);\n",
              "\n",
              "    outputElement.appendChild(li);\n",
              "\n",
              "    const fileDataPromise = new Promise((resolve) => {\n",
              "      const reader = new FileReader();\n",
              "      reader.onload = (e) => {\n",
              "        resolve(e.target.result);\n",
              "      };\n",
              "      reader.readAsArrayBuffer(file);\n",
              "    });\n",
              "    // Wait for the data to be ready.\n",
              "    let fileData = yield {\n",
              "      promise: fileDataPromise,\n",
              "      response: {\n",
              "        action: 'continue',\n",
              "      }\n",
              "    };\n",
              "\n",
              "    // Use a chunked sending to avoid message size limits. See b/62115660.\n",
              "    let position = 0;\n",
              "    do {\n",
              "      const length = Math.min(fileData.byteLength - position, MAX_PAYLOAD_SIZE);\n",
              "      const chunk = new Uint8Array(fileData, position, length);\n",
              "      position += length;\n",
              "\n",
              "      const base64 = btoa(String.fromCharCode.apply(null, chunk));\n",
              "      yield {\n",
              "        response: {\n",
              "          action: 'append',\n",
              "          file: file.name,\n",
              "          data: base64,\n",
              "        },\n",
              "      };\n",
              "\n",
              "      let percentDone = fileData.byteLength === 0 ?\n",
              "          100 :\n",
              "          Math.round((position / fileData.byteLength) * 100);\n",
              "      percent.textContent = `${percentDone}% done`;\n",
              "\n",
              "    } while (position < fileData.byteLength);\n",
              "  }\n",
              "\n",
              "  // All done.\n",
              "  yield {\n",
              "    response: {\n",
              "      action: 'complete',\n",
              "    }\n",
              "  };\n",
              "}\n",
              "\n",
              "scope.google = scope.google || {};\n",
              "scope.google.colab = scope.google.colab || {};\n",
              "scope.google.colab._files = {\n",
              "  _uploadFiles,\n",
              "  _uploadFilesContinue,\n",
              "};\n",
              "})(self);\n",
              "</script> "
            ]
          },
          "metadata": {}
        },
        {
          "output_type": "stream",
          "name": "stdout",
          "text": [
            "Saving kaggle.json to kaggle.json\n"
          ]
        },
        {
          "output_type": "execute_result",
          "data": {
            "text/plain": [
              "{'kaggle.json': b'{\"username\":\"yagmurinanc\",\"key\":\"714e2eb0d3b771573b71ef60e02cbf4e\"}'}"
            ]
          },
          "metadata": {},
          "execution_count": 2
        }
      ]
    },
    {
      "cell_type": "code",
      "source": [
        "! mkdir ~/.kaggle\n",
        "\n",
        "! cp kaggle.json ~/.kaggle/"
      ],
      "metadata": {
        "id": "B8oBrp0xxAey"
      },
      "execution_count": null,
      "outputs": []
    },
    {
      "cell_type": "code",
      "source": [
        "! chmod 600 ~/.kaggle/kaggle.json"
      ],
      "metadata": {
        "id": "NHHTZyz5xGWa"
      },
      "execution_count": null,
      "outputs": []
    },
    {
      "cell_type": "code",
      "source": [
        "! kaggle datasets list"
      ],
      "metadata": {
        "colab": {
          "base_uri": "https://localhost:8080/"
        },
        "id": "320AI67FxJTa",
        "outputId": "f36680eb-1558-4e3e-80d0-d514680b7e42"
      },
      "execution_count": null,
      "outputs": [
        {
          "output_type": "stream",
          "name": "stdout",
          "text": [
            "ref                                                            title                                                size  lastUpdated          downloadCount  voteCount  usabilityRating  \n",
            "-------------------------------------------------------------  --------------------------------------------------  -----  -------------------  -------------  ---------  ---------------  \n",
            "iamsouravbanerjee/world-population-dataset                     World Population Dataset                             17KB  2022-08-31 11:20:04           7066        220  1.0              \n",
            "kaggleashwin/population-dataset                                World Population by Countries Dataset (1960-2021)    69KB  2022-08-31 05:30:26           1748         74  1.0              \n",
            "iamsouravbanerjee/house-rent-prediction-dataset                House Rent Prediction Dataset                        82KB  2022-08-20 13:49:03          12828        322  1.0              \n",
            "pantanjali/unemployment-dataset                                Unemployment dataset                                 17KB  2022-09-08 08:26:10           1509         54  1.0              \n",
            "ariyoomotade/netflix-data-cleaning-analysis-and-visualization  Netflix Data: Cleaning, Analysis and Visualization  270KB  2022-08-26 09:25:43           3960         96  1.0              \n",
            "rohitmahulkar/online-retails-sale-dataset                      Online Retails Sale Dataset                           8MB  2022-08-25 18:04:52           1136         30  0.9411765        \n",
            "deepcontractor/smoke-detection-dataset                         Smoke Detection Dataset                               2MB  2022-08-21 06:29:34           2483         81  1.0              \n",
            "estienneggx/spotify-unpopular-songs                            Spotify unpopular songs                             737KB  2022-09-04 22:10:41           1050         40  1.0              \n",
            "evangower/chocolate-bar-ratings                                Chocolate Bar Ratings                                64KB  2022-09-06 15:37:56            650         33  1.0              \n",
            "sveta151/tiktok-popular-songs-2020                             TikTok popular songs 2020                            17KB  2022-08-22 10:49:13            751         28  1.0              \n",
            "arianazmoudeh/airbnbopendata                                   Airbnb Open Data                                     10MB  2022-08-01 15:58:10           4759        126  0.9705882        \n",
            "totoro29/imdb-movies                                           IMDB Movies                                         668KB  2022-08-22 13:43:25            690         31  0.9411765        \n",
            "samuelcortinhas/gdp-of-european-countries                      GDP of European countries                            795B  2022-09-01 13:15:51            409         32  1.0              \n",
            "advaypatil/youtube-statistics                                  Youtube Statistics                                    2MB  2022-08-26 02:03:19           1567         57  1.0              \n",
            "sveta151/spotify-top-chart-songs-2022                          Spotify top chart songs 2022                         45KB  2022-09-05 07:59:27            783         38  1.0              \n",
            "sveta151/tiktok-popular-songs-2021                             TikTok popular songs 2021                            11KB  2022-08-22 11:02:34           1000         36  1.0              \n",
            "yasirabdaali/corona-virus-covid19-us-counties                  Corona Virus Covid-19  US Counties                   75MB  2022-08-22 02:38:55            668         29  0.9411765        \n",
            "surajjha101/fortune-top-1000-companies-by-revenue-2022         Fortune Top 1000 Companies by Revenue 2022           37KB  2022-08-28 06:43:27           1084         50  1.0              \n",
            "dansbecker/melbourne-housing-snapshot                          Melbourne Housing Snapshot                          451KB  2018-06-05 12:52:24          95538       1137  0.7058824        \n",
            "zwl1234/top-50-bestselling-novels-20092021-of-amazon           Top 50 Bestselling Novels 2009-2021 of Amazon        36KB  2022-08-29 15:50:47           1252         32  1.0              \n"
          ]
        }
      ]
    },
    {
      "cell_type": "code",
      "source": [
        "! kaggle datasets download -d kkhandekar/global-sea-level-1993-2021"
      ],
      "metadata": {
        "colab": {
          "base_uri": "https://localhost:8080/"
        },
        "id": "ha9pr75jxMeS",
        "outputId": "25d96399-8dc1-4f01-9caa-dde78095904f"
      },
      "execution_count": null,
      "outputs": [
        {
          "output_type": "stream",
          "name": "stdout",
          "text": [
            "Downloading global-sea-level-1993-2021.zip to /content\n",
            "\r  0% 0.00/22.2k [00:00<?, ?B/s]\n",
            "\r100% 22.2k/22.2k [00:00<00:00, 17.8MB/s]\n"
          ]
        }
      ]
    },
    {
      "cell_type": "code",
      "source": [
        "! unzip global-sea-level-1993-2021.zip"
      ],
      "metadata": {
        "colab": {
          "base_uri": "https://localhost:8080/"
        },
        "id": "1UltrdRZxZRT",
        "outputId": "6491ee52-2b32-44a6-cf62-a0d655eb95e1"
      },
      "execution_count": null,
      "outputs": [
        {
          "output_type": "stream",
          "name": "stdout",
          "text": [
            "Archive:  global-sea-level-1993-2021.zip\n",
            "  inflating: sealevel.csv            \n"
          ]
        }
      ]
    },
    {
      "cell_type": "markdown",
      "source": [
        "#Preprocessing"
      ],
      "metadata": {
        "id": "my87m3dX7S-M"
      }
    },
    {
      "cell_type": "code",
      "source": [
        "import pandas as pd\n",
        "import numpy as np\n"
      ],
      "metadata": {
        "id": "bEhPtlwfxj6U"
      },
      "execution_count": null,
      "outputs": []
    },
    {
      "cell_type": "code",
      "source": [
        "df_path = 'sealevel.csv'"
      ],
      "metadata": {
        "id": "4n7LCX2GxnTh"
      },
      "execution_count": null,
      "outputs": []
    },
    {
      "cell_type": "code",
      "source": [
        "df = pd.read_csv(df_path)\n",
        "df.head()"
      ],
      "metadata": {
        "colab": {
          "base_uri": "https://localhost:8080/",
          "height": 206
        },
        "id": "8aTbJp_-xrYz",
        "outputId": "bf42a374-be23-4d47-b050-350ef98d504b"
      },
      "execution_count": null,
      "outputs": [
        {
          "output_type": "execute_result",
          "data": {
            "text/plain": [
              "   Year  TotalWeightedObservations  GMSL_noGIA  StdDevGMSL_noGIA  \\\n",
              "0  1993                  327401.31      -38.59             89.86   \n",
              "1  1993                  324498.41      -41.97             90.86   \n",
              "2  1993                  333018.19      -41.93             87.27   \n",
              "3  1993                  297483.19      -42.67             90.75   \n",
              "4  1993                  321635.81      -37.86             90.26   \n",
              "\n",
              "   SmoothedGSML_noGIA  GMSL_GIA  StdDevGMSL_GIA  SmoothedGSML_GIA  \\\n",
              "0              -38.76    -38.59           89.86            -38.75   \n",
              "1              -39.78    -41.97           90.86            -39.77   \n",
              "2              -39.62    -41.91           87.27            -39.61   \n",
              "3              -39.67    -42.65           90.74            -39.64   \n",
              "4              -38.75    -37.83           90.25            -38.72   \n",
              "\n",
              "   SmoothedGSML_GIA_sigremoved  \n",
              "0                       -38.57  \n",
              "1                       -39.11  \n",
              "2                       -38.58  \n",
              "3                       -38.34  \n",
              "4                       -37.21  "
            ],
            "text/html": [
              "\n",
              "  <div id=\"df-c0f66ed5-9388-4f86-b8c1-503375dc7393\">\n",
              "    <div class=\"colab-df-container\">\n",
              "      <div>\n",
              "<style scoped>\n",
              "    .dataframe tbody tr th:only-of-type {\n",
              "        vertical-align: middle;\n",
              "    }\n",
              "\n",
              "    .dataframe tbody tr th {\n",
              "        vertical-align: top;\n",
              "    }\n",
              "\n",
              "    .dataframe thead th {\n",
              "        text-align: right;\n",
              "    }\n",
              "</style>\n",
              "<table border=\"1\" class=\"dataframe\">\n",
              "  <thead>\n",
              "    <tr style=\"text-align: right;\">\n",
              "      <th></th>\n",
              "      <th>Year</th>\n",
              "      <th>TotalWeightedObservations</th>\n",
              "      <th>GMSL_noGIA</th>\n",
              "      <th>StdDevGMSL_noGIA</th>\n",
              "      <th>SmoothedGSML_noGIA</th>\n",
              "      <th>GMSL_GIA</th>\n",
              "      <th>StdDevGMSL_GIA</th>\n",
              "      <th>SmoothedGSML_GIA</th>\n",
              "      <th>SmoothedGSML_GIA_sigremoved</th>\n",
              "    </tr>\n",
              "  </thead>\n",
              "  <tbody>\n",
              "    <tr>\n",
              "      <th>0</th>\n",
              "      <td>1993</td>\n",
              "      <td>327401.31</td>\n",
              "      <td>-38.59</td>\n",
              "      <td>89.86</td>\n",
              "      <td>-38.76</td>\n",
              "      <td>-38.59</td>\n",
              "      <td>89.86</td>\n",
              "      <td>-38.75</td>\n",
              "      <td>-38.57</td>\n",
              "    </tr>\n",
              "    <tr>\n",
              "      <th>1</th>\n",
              "      <td>1993</td>\n",
              "      <td>324498.41</td>\n",
              "      <td>-41.97</td>\n",
              "      <td>90.86</td>\n",
              "      <td>-39.78</td>\n",
              "      <td>-41.97</td>\n",
              "      <td>90.86</td>\n",
              "      <td>-39.77</td>\n",
              "      <td>-39.11</td>\n",
              "    </tr>\n",
              "    <tr>\n",
              "      <th>2</th>\n",
              "      <td>1993</td>\n",
              "      <td>333018.19</td>\n",
              "      <td>-41.93</td>\n",
              "      <td>87.27</td>\n",
              "      <td>-39.62</td>\n",
              "      <td>-41.91</td>\n",
              "      <td>87.27</td>\n",
              "      <td>-39.61</td>\n",
              "      <td>-38.58</td>\n",
              "    </tr>\n",
              "    <tr>\n",
              "      <th>3</th>\n",
              "      <td>1993</td>\n",
              "      <td>297483.19</td>\n",
              "      <td>-42.67</td>\n",
              "      <td>90.75</td>\n",
              "      <td>-39.67</td>\n",
              "      <td>-42.65</td>\n",
              "      <td>90.74</td>\n",
              "      <td>-39.64</td>\n",
              "      <td>-38.34</td>\n",
              "    </tr>\n",
              "    <tr>\n",
              "      <th>4</th>\n",
              "      <td>1993</td>\n",
              "      <td>321635.81</td>\n",
              "      <td>-37.86</td>\n",
              "      <td>90.26</td>\n",
              "      <td>-38.75</td>\n",
              "      <td>-37.83</td>\n",
              "      <td>90.25</td>\n",
              "      <td>-38.72</td>\n",
              "      <td>-37.21</td>\n",
              "    </tr>\n",
              "  </tbody>\n",
              "</table>\n",
              "</div>\n",
              "      <button class=\"colab-df-convert\" onclick=\"convertToInteractive('df-c0f66ed5-9388-4f86-b8c1-503375dc7393')\"\n",
              "              title=\"Convert this dataframe to an interactive table.\"\n",
              "              style=\"display:none;\">\n",
              "        \n",
              "  <svg xmlns=\"http://www.w3.org/2000/svg\" height=\"24px\"viewBox=\"0 0 24 24\"\n",
              "       width=\"24px\">\n",
              "    <path d=\"M0 0h24v24H0V0z\" fill=\"none\"/>\n",
              "    <path d=\"M18.56 5.44l.94 2.06.94-2.06 2.06-.94-2.06-.94-.94-2.06-.94 2.06-2.06.94zm-11 1L8.5 8.5l.94-2.06 2.06-.94-2.06-.94L8.5 2.5l-.94 2.06-2.06.94zm10 10l.94 2.06.94-2.06 2.06-.94-2.06-.94-.94-2.06-.94 2.06-2.06.94z\"/><path d=\"M17.41 7.96l-1.37-1.37c-.4-.4-.92-.59-1.43-.59-.52 0-1.04.2-1.43.59L10.3 9.45l-7.72 7.72c-.78.78-.78 2.05 0 2.83L4 21.41c.39.39.9.59 1.41.59.51 0 1.02-.2 1.41-.59l7.78-7.78 2.81-2.81c.8-.78.8-2.07 0-2.86zM5.41 20L4 18.59l7.72-7.72 1.47 1.35L5.41 20z\"/>\n",
              "  </svg>\n",
              "      </button>\n",
              "      \n",
              "  <style>\n",
              "    .colab-df-container {\n",
              "      display:flex;\n",
              "      flex-wrap:wrap;\n",
              "      gap: 12px;\n",
              "    }\n",
              "\n",
              "    .colab-df-convert {\n",
              "      background-color: #E8F0FE;\n",
              "      border: none;\n",
              "      border-radius: 50%;\n",
              "      cursor: pointer;\n",
              "      display: none;\n",
              "      fill: #1967D2;\n",
              "      height: 32px;\n",
              "      padding: 0 0 0 0;\n",
              "      width: 32px;\n",
              "    }\n",
              "\n",
              "    .colab-df-convert:hover {\n",
              "      background-color: #E2EBFA;\n",
              "      box-shadow: 0px 1px 2px rgba(60, 64, 67, 0.3), 0px 1px 3px 1px rgba(60, 64, 67, 0.15);\n",
              "      fill: #174EA6;\n",
              "    }\n",
              "\n",
              "    [theme=dark] .colab-df-convert {\n",
              "      background-color: #3B4455;\n",
              "      fill: #D2E3FC;\n",
              "    }\n",
              "\n",
              "    [theme=dark] .colab-df-convert:hover {\n",
              "      background-color: #434B5C;\n",
              "      box-shadow: 0px 1px 3px 1px rgba(0, 0, 0, 0.15);\n",
              "      filter: drop-shadow(0px 1px 2px rgba(0, 0, 0, 0.3));\n",
              "      fill: #FFFFFF;\n",
              "    }\n",
              "  </style>\n",
              "\n",
              "      <script>\n",
              "        const buttonEl =\n",
              "          document.querySelector('#df-c0f66ed5-9388-4f86-b8c1-503375dc7393 button.colab-df-convert');\n",
              "        buttonEl.style.display =\n",
              "          google.colab.kernel.accessAllowed ? 'block' : 'none';\n",
              "\n",
              "        async function convertToInteractive(key) {\n",
              "          const element = document.querySelector('#df-c0f66ed5-9388-4f86-b8c1-503375dc7393');\n",
              "          const dataTable =\n",
              "            await google.colab.kernel.invokeFunction('convertToInteractive',\n",
              "                                                     [key], {});\n",
              "          if (!dataTable) return;\n",
              "\n",
              "          const docLinkHtml = 'Like what you see? Visit the ' +\n",
              "            '<a target=\"_blank\" href=https://colab.research.google.com/notebooks/data_table.ipynb>data table notebook</a>'\n",
              "            + ' to learn more about interactive tables.';\n",
              "          element.innerHTML = '';\n",
              "          dataTable['output_type'] = 'display_data';\n",
              "          await google.colab.output.renderOutput(dataTable, element);\n",
              "          const docLink = document.createElement('div');\n",
              "          docLink.innerHTML = docLinkHtml;\n",
              "          element.appendChild(docLink);\n",
              "        }\n",
              "      </script>\n",
              "    </div>\n",
              "  </div>\n",
              "  "
            ]
          },
          "metadata": {},
          "execution_count": 10
        }
      ]
    },
    {
      "cell_type": "code",
      "source": [
        "df.info()"
      ],
      "metadata": {
        "colab": {
          "base_uri": "https://localhost:8080/"
        },
        "id": "2Wr8pu5hx42h",
        "outputId": "ab1385ad-6441-4d20-fee8-0f1b74e1fd86"
      },
      "execution_count": null,
      "outputs": [
        {
          "output_type": "stream",
          "name": "stdout",
          "text": [
            "<class 'pandas.core.frame.DataFrame'>\n",
            "RangeIndex: 1048 entries, 0 to 1047\n",
            "Data columns (total 9 columns):\n",
            " #   Column                       Non-Null Count  Dtype  \n",
            "---  ------                       --------------  -----  \n",
            " 0   Year                         1048 non-null   int64  \n",
            " 1   TotalWeightedObservations    1048 non-null   float64\n",
            " 2   GMSL_noGIA                   1048 non-null   float64\n",
            " 3   StdDevGMSL_noGIA             1048 non-null   float64\n",
            " 4   SmoothedGSML_noGIA           1048 non-null   float64\n",
            " 5   GMSL_GIA                     1048 non-null   float64\n",
            " 6   StdDevGMSL_GIA               1048 non-null   float64\n",
            " 7   SmoothedGSML_GIA             1048 non-null   float64\n",
            " 8   SmoothedGSML_GIA_sigremoved  1048 non-null   float64\n",
            "dtypes: float64(8), int64(1)\n",
            "memory usage: 73.8 KB\n"
          ]
        }
      ]
    },
    {
      "cell_type": "code",
      "source": [
        "x = df['Year'].unique()\n",
        "print(x)\n",
        "print(len(x))"
      ],
      "metadata": {
        "colab": {
          "base_uri": "https://localhost:8080/"
        },
        "id": "hzgOgCBB26zV",
        "outputId": "6a7d9c44-2770-4aeb-8eaa-12c1ba23e283"
      },
      "execution_count": null,
      "outputs": [
        {
          "output_type": "stream",
          "name": "stdout",
          "text": [
            "[1993 1994 1995 1996 1997 1998 1999 2000 2001 2002 2003 2004 2005 2006\n",
            " 2007 2008 2009 2010 2011 2012 2013 2014 2015 2016 2017 2018 2019 2020\n",
            " 2021]\n",
            "29\n"
          ]
        }
      ]
    },
    {
      "cell_type": "markdown",
      "source": [
        "#Min Max Scaling"
      ],
      "metadata": {
        "id": "6P2nT00e7No6"
      }
    },
    {
      "cell_type": "code",
      "source": [
        "df['GMSL_noGIA'] = (df['GMSL_noGIA']-df['GMSL_noGIA'].min())/(df['GMSL_noGIA'].max()-df['GMSL_noGIA'].min())"
      ],
      "metadata": {
        "id": "id4AukRC45qW"
      },
      "execution_count": null,
      "outputs": []
    },
    {
      "cell_type": "code",
      "source": [
        "df['TotalWeightedObservations'] = (df['TotalWeightedObservations']-df['TotalWeightedObservations'].min())/(df['TotalWeightedObservations'].max()-df['TotalWeightedObservations'].min())"
      ],
      "metadata": {
        "id": "rtCr8PXs62jU"
      },
      "execution_count": null,
      "outputs": []
    },
    {
      "cell_type": "code",
      "source": [
        "df['StdDevGMSL_noGIA'] = (df['StdDevGMSL_noGIA']-df['StdDevGMSL_noGIA'].min())/(df['StdDevGMSL_noGIA'].max()-df['StdDevGMSL_noGIA'].min())"
      ],
      "metadata": {
        "id": "AD1ZWnlg7QzE"
      },
      "execution_count": null,
      "outputs": []
    },
    {
      "cell_type": "code",
      "source": [
        "df['SmoothedGSML_noGIA'] = (df['SmoothedGSML_noGIA']-df['SmoothedGSML_noGIA'].min())/(df['SmoothedGSML_noGIA'].max()-df['SmoothedGSML_noGIA'].min())"
      ],
      "metadata": {
        "id": "NwQX_Gk67m1D"
      },
      "execution_count": null,
      "outputs": []
    },
    {
      "cell_type": "code",
      "source": [
        "df['GMSL_GIA'] = (df['GMSL_GIA']-df['GMSL_GIA'].min())/(df['GMSL_GIA'].max()-df['GMSL_GIA'].min())"
      ],
      "metadata": {
        "id": "BcOaX9mU7nTV"
      },
      "execution_count": null,
      "outputs": []
    },
    {
      "cell_type": "code",
      "source": [
        "df['StdDevGMSL_noGIA'] = (df['StdDevGMSL_noGIA']-df['StdDevGMSL_noGIA'].min())/(df['StdDevGMSL_noGIA'].max()-df['StdDevGMSL_noGIA'].min())"
      ],
      "metadata": {
        "id": "YI28EzHb8LG6"
      },
      "execution_count": null,
      "outputs": []
    },
    {
      "cell_type": "code",
      "source": [
        "df['SmoothedGSML_GIA'] = (df['SmoothedGSML_GIA']-df['SmoothedGSML_GIA'].min())/(df['SmoothedGSML_GIA'].max()-df['SmoothedGSML_GIA'].min())"
      ],
      "metadata": {
        "id": "ZJkdu31A8Lbm"
      },
      "execution_count": null,
      "outputs": []
    },
    {
      "cell_type": "code",
      "source": [
        "df['SmoothedGSML_GIA_sigremoved'] = (df['SmoothedGSML_GIA_sigremoved']-df['SmoothedGSML_GIA_sigremoved'].min())/(df['SmoothedGSML_GIA_sigremoved'].max()-df['SmoothedGSML_GIA_sigremoved'].min())"
      ],
      "metadata": {
        "id": "IArf8F3v8UXa"
      },
      "execution_count": null,
      "outputs": []
    },
    {
      "cell_type": "code",
      "source": [
        "df\n"
      ],
      "metadata": {
        "colab": {
          "base_uri": "https://localhost:8080/",
          "height": 424
        },
        "id": "OY3jXKWE5CxO",
        "outputId": "75f61f77-6f22-4468-c807-4dd1c67b92b5"
      },
      "execution_count": null,
      "outputs": [
        {
          "output_type": "execute_result",
          "data": {
            "text/plain": [
              "      Year  TotalWeightedObservations  GMSL_noGIA  StdDevGMSL_noGIA  \\\n",
              "0     1993                   0.959070    0.056690          0.301380   \n",
              "1     1993                   0.950543    0.023654          0.325587   \n",
              "2     1993                   0.975569    0.024045          0.238683   \n",
              "3     1993                   0.871186    0.016812          0.322924   \n",
              "4     1993                   0.942134    0.063826          0.311063   \n",
              "...    ...                        ...         ...               ...   \n",
              "1043  2021                   0.981183    0.915355          0.183975   \n",
              "1044  2021                   0.990327    0.927378          0.206488   \n",
              "1045  2021                   0.988352    0.919167          0.160010   \n",
              "1046  2021                   0.982754    0.897762          0.127088   \n",
              "1047  2021                   0.981582    0.923272          0.112079   \n",
              "\n",
              "      SmoothedGSML_noGIA  GMSL_GIA  StdDevGMSL_GIA  SmoothedGSML_GIA  \\\n",
              "0               0.010615  0.042314           89.86          0.009918   \n",
              "1               0.000000  0.010881           90.86          0.000000   \n",
              "2               0.001665  0.011439           87.27          0.001556   \n",
              "3               0.001145  0.004557           90.74          0.001264   \n",
              "4               0.010719  0.049382           90.25          0.010210   \n",
              "...                  ...       ...             ...               ...   \n",
              "1043            0.932043  0.923556           84.76          0.937962   \n",
              "1044            0.930794  0.935181           85.65          0.936795   \n",
              "1045            0.929961  0.927276           83.78          0.936114   \n",
              "1046            0.929545  0.907189           82.45          0.935725   \n",
              "1047            0.929233  0.931368           82.10          0.935434   \n",
              "\n",
              "      SmoothedGSML_GIA_sigremoved  \n",
              "0                        0.005418  \n",
              "1                        0.000000  \n",
              "2                        0.005318  \n",
              "3                        0.007725  \n",
              "4                        0.019063  \n",
              "...                           ...  \n",
              "1043                     0.999298  \n",
              "1044                     1.000000  \n",
              "1045                     0.999699  \n",
              "1046                     0.997993  \n",
              "1047                     0.994181  \n",
              "\n",
              "[1048 rows x 9 columns]"
            ],
            "text/html": [
              "\n",
              "  <div id=\"df-8fc63109-9a2f-488e-b48e-d0ab94ac84ec\">\n",
              "    <div class=\"colab-df-container\">\n",
              "      <div>\n",
              "<style scoped>\n",
              "    .dataframe tbody tr th:only-of-type {\n",
              "        vertical-align: middle;\n",
              "    }\n",
              "\n",
              "    .dataframe tbody tr th {\n",
              "        vertical-align: top;\n",
              "    }\n",
              "\n",
              "    .dataframe thead th {\n",
              "        text-align: right;\n",
              "    }\n",
              "</style>\n",
              "<table border=\"1\" class=\"dataframe\">\n",
              "  <thead>\n",
              "    <tr style=\"text-align: right;\">\n",
              "      <th></th>\n",
              "      <th>Year</th>\n",
              "      <th>TotalWeightedObservations</th>\n",
              "      <th>GMSL_noGIA</th>\n",
              "      <th>StdDevGMSL_noGIA</th>\n",
              "      <th>SmoothedGSML_noGIA</th>\n",
              "      <th>GMSL_GIA</th>\n",
              "      <th>StdDevGMSL_GIA</th>\n",
              "      <th>SmoothedGSML_GIA</th>\n",
              "      <th>SmoothedGSML_GIA_sigremoved</th>\n",
              "    </tr>\n",
              "  </thead>\n",
              "  <tbody>\n",
              "    <tr>\n",
              "      <th>0</th>\n",
              "      <td>1993</td>\n",
              "      <td>0.959070</td>\n",
              "      <td>0.056690</td>\n",
              "      <td>0.301380</td>\n",
              "      <td>0.010615</td>\n",
              "      <td>0.042314</td>\n",
              "      <td>89.86</td>\n",
              "      <td>0.009918</td>\n",
              "      <td>0.005418</td>\n",
              "    </tr>\n",
              "    <tr>\n",
              "      <th>1</th>\n",
              "      <td>1993</td>\n",
              "      <td>0.950543</td>\n",
              "      <td>0.023654</td>\n",
              "      <td>0.325587</td>\n",
              "      <td>0.000000</td>\n",
              "      <td>0.010881</td>\n",
              "      <td>90.86</td>\n",
              "      <td>0.000000</td>\n",
              "      <td>0.000000</td>\n",
              "    </tr>\n",
              "    <tr>\n",
              "      <th>2</th>\n",
              "      <td>1993</td>\n",
              "      <td>0.975569</td>\n",
              "      <td>0.024045</td>\n",
              "      <td>0.238683</td>\n",
              "      <td>0.001665</td>\n",
              "      <td>0.011439</td>\n",
              "      <td>87.27</td>\n",
              "      <td>0.001556</td>\n",
              "      <td>0.005318</td>\n",
              "    </tr>\n",
              "    <tr>\n",
              "      <th>3</th>\n",
              "      <td>1993</td>\n",
              "      <td>0.871186</td>\n",
              "      <td>0.016812</td>\n",
              "      <td>0.322924</td>\n",
              "      <td>0.001145</td>\n",
              "      <td>0.004557</td>\n",
              "      <td>90.74</td>\n",
              "      <td>0.001264</td>\n",
              "      <td>0.007725</td>\n",
              "    </tr>\n",
              "    <tr>\n",
              "      <th>4</th>\n",
              "      <td>1993</td>\n",
              "      <td>0.942134</td>\n",
              "      <td>0.063826</td>\n",
              "      <td>0.311063</td>\n",
              "      <td>0.010719</td>\n",
              "      <td>0.049382</td>\n",
              "      <td>90.25</td>\n",
              "      <td>0.010210</td>\n",
              "      <td>0.019063</td>\n",
              "    </tr>\n",
              "    <tr>\n",
              "      <th>...</th>\n",
              "      <td>...</td>\n",
              "      <td>...</td>\n",
              "      <td>...</td>\n",
              "      <td>...</td>\n",
              "      <td>...</td>\n",
              "      <td>...</td>\n",
              "      <td>...</td>\n",
              "      <td>...</td>\n",
              "      <td>...</td>\n",
              "    </tr>\n",
              "    <tr>\n",
              "      <th>1043</th>\n",
              "      <td>2021</td>\n",
              "      <td>0.981183</td>\n",
              "      <td>0.915355</td>\n",
              "      <td>0.183975</td>\n",
              "      <td>0.932043</td>\n",
              "      <td>0.923556</td>\n",
              "      <td>84.76</td>\n",
              "      <td>0.937962</td>\n",
              "      <td>0.999298</td>\n",
              "    </tr>\n",
              "    <tr>\n",
              "      <th>1044</th>\n",
              "      <td>2021</td>\n",
              "      <td>0.990327</td>\n",
              "      <td>0.927378</td>\n",
              "      <td>0.206488</td>\n",
              "      <td>0.930794</td>\n",
              "      <td>0.935181</td>\n",
              "      <td>85.65</td>\n",
              "      <td>0.936795</td>\n",
              "      <td>1.000000</td>\n",
              "    </tr>\n",
              "    <tr>\n",
              "      <th>1045</th>\n",
              "      <td>2021</td>\n",
              "      <td>0.988352</td>\n",
              "      <td>0.919167</td>\n",
              "      <td>0.160010</td>\n",
              "      <td>0.929961</td>\n",
              "      <td>0.927276</td>\n",
              "      <td>83.78</td>\n",
              "      <td>0.936114</td>\n",
              "      <td>0.999699</td>\n",
              "    </tr>\n",
              "    <tr>\n",
              "      <th>1046</th>\n",
              "      <td>2021</td>\n",
              "      <td>0.982754</td>\n",
              "      <td>0.897762</td>\n",
              "      <td>0.127088</td>\n",
              "      <td>0.929545</td>\n",
              "      <td>0.907189</td>\n",
              "      <td>82.45</td>\n",
              "      <td>0.935725</td>\n",
              "      <td>0.997993</td>\n",
              "    </tr>\n",
              "    <tr>\n",
              "      <th>1047</th>\n",
              "      <td>2021</td>\n",
              "      <td>0.981582</td>\n",
              "      <td>0.923272</td>\n",
              "      <td>0.112079</td>\n",
              "      <td>0.929233</td>\n",
              "      <td>0.931368</td>\n",
              "      <td>82.10</td>\n",
              "      <td>0.935434</td>\n",
              "      <td>0.994181</td>\n",
              "    </tr>\n",
              "  </tbody>\n",
              "</table>\n",
              "<p>1048 rows × 9 columns</p>\n",
              "</div>\n",
              "      <button class=\"colab-df-convert\" onclick=\"convertToInteractive('df-8fc63109-9a2f-488e-b48e-d0ab94ac84ec')\"\n",
              "              title=\"Convert this dataframe to an interactive table.\"\n",
              "              style=\"display:none;\">\n",
              "        \n",
              "  <svg xmlns=\"http://www.w3.org/2000/svg\" height=\"24px\"viewBox=\"0 0 24 24\"\n",
              "       width=\"24px\">\n",
              "    <path d=\"M0 0h24v24H0V0z\" fill=\"none\"/>\n",
              "    <path d=\"M18.56 5.44l.94 2.06.94-2.06 2.06-.94-2.06-.94-.94-2.06-.94 2.06-2.06.94zm-11 1L8.5 8.5l.94-2.06 2.06-.94-2.06-.94L8.5 2.5l-.94 2.06-2.06.94zm10 10l.94 2.06.94-2.06 2.06-.94-2.06-.94-.94-2.06-.94 2.06-2.06.94z\"/><path d=\"M17.41 7.96l-1.37-1.37c-.4-.4-.92-.59-1.43-.59-.52 0-1.04.2-1.43.59L10.3 9.45l-7.72 7.72c-.78.78-.78 2.05 0 2.83L4 21.41c.39.39.9.59 1.41.59.51 0 1.02-.2 1.41-.59l7.78-7.78 2.81-2.81c.8-.78.8-2.07 0-2.86zM5.41 20L4 18.59l7.72-7.72 1.47 1.35L5.41 20z\"/>\n",
              "  </svg>\n",
              "      </button>\n",
              "      \n",
              "  <style>\n",
              "    .colab-df-container {\n",
              "      display:flex;\n",
              "      flex-wrap:wrap;\n",
              "      gap: 12px;\n",
              "    }\n",
              "\n",
              "    .colab-df-convert {\n",
              "      background-color: #E8F0FE;\n",
              "      border: none;\n",
              "      border-radius: 50%;\n",
              "      cursor: pointer;\n",
              "      display: none;\n",
              "      fill: #1967D2;\n",
              "      height: 32px;\n",
              "      padding: 0 0 0 0;\n",
              "      width: 32px;\n",
              "    }\n",
              "\n",
              "    .colab-df-convert:hover {\n",
              "      background-color: #E2EBFA;\n",
              "      box-shadow: 0px 1px 2px rgba(60, 64, 67, 0.3), 0px 1px 3px 1px rgba(60, 64, 67, 0.15);\n",
              "      fill: #174EA6;\n",
              "    }\n",
              "\n",
              "    [theme=dark] .colab-df-convert {\n",
              "      background-color: #3B4455;\n",
              "      fill: #D2E3FC;\n",
              "    }\n",
              "\n",
              "    [theme=dark] .colab-df-convert:hover {\n",
              "      background-color: #434B5C;\n",
              "      box-shadow: 0px 1px 3px 1px rgba(0, 0, 0, 0.15);\n",
              "      filter: drop-shadow(0px 1px 2px rgba(0, 0, 0, 0.3));\n",
              "      fill: #FFFFFF;\n",
              "    }\n",
              "  </style>\n",
              "\n",
              "      <script>\n",
              "        const buttonEl =\n",
              "          document.querySelector('#df-8fc63109-9a2f-488e-b48e-d0ab94ac84ec button.colab-df-convert');\n",
              "        buttonEl.style.display =\n",
              "          google.colab.kernel.accessAllowed ? 'block' : 'none';\n",
              "\n",
              "        async function convertToInteractive(key) {\n",
              "          const element = document.querySelector('#df-8fc63109-9a2f-488e-b48e-d0ab94ac84ec');\n",
              "          const dataTable =\n",
              "            await google.colab.kernel.invokeFunction('convertToInteractive',\n",
              "                                                     [key], {});\n",
              "          if (!dataTable) return;\n",
              "\n",
              "          const docLinkHtml = 'Like what you see? Visit the ' +\n",
              "            '<a target=\"_blank\" href=https://colab.research.google.com/notebooks/data_table.ipynb>data table notebook</a>'\n",
              "            + ' to learn more about interactive tables.';\n",
              "          element.innerHTML = '';\n",
              "          dataTable['output_type'] = 'display_data';\n",
              "          await google.colab.output.renderOutput(dataTable, element);\n",
              "          const docLink = document.createElement('div');\n",
              "          docLink.innerHTML = docLinkHtml;\n",
              "          element.appendChild(docLink);\n",
              "        }\n",
              "      </script>\n",
              "    </div>\n",
              "  </div>\n",
              "  "
            ]
          },
          "metadata": {},
          "execution_count": 35
        }
      ]
    },
    {
      "cell_type": "markdown",
      "source": [
        "#Regression"
      ],
      "metadata": {
        "id": "WaeF6MGn744k"
      }
    },
    {
      "cell_type": "code",
      "source": [
        "from sklearn.model_selection import train_test_split\n",
        "y = df.drop(['Year'],axis=1)\n",
        "x = df['Year']\n",
        "\n",
        "x = df.iloc[: , -1].values\n",
        "\n",
        "y = df.iloc[: , -1].values"
      ],
      "metadata": {
        "id": "4VWRPr6S5K7e"
      },
      "execution_count": null,
      "outputs": []
    },
    {
      "cell_type": "code",
      "source": [
        "from sklearn.linear_model import LinearRegression\n",
        "\n",
        "x_train, x_test, y_train, y_test = train_test_split(x,y,test_size=0.2,random_state=0)\n",
        "print('x_train: ',x_train.shape,'\\nx_test: ',x_test.shape,'\\ny_train: ',y_train.shape,'\\ny_test: ',y_test.shape)\n",
        "\n",
        "x_train= x_train.reshape(-1, 1)\n",
        "x_test = x_test.reshape(-1, 1)\n",
        "\n",
        "regressor = LinearRegression()\n",
        "regressor.fit(x_train,y_train)\n",
        "\n",
        "y_pred = regressor.predict(x_test)\n"
      ],
      "metadata": {
        "colab": {
          "base_uri": "https://localhost:8080/"
        },
        "id": "uVzErWAY5W49",
        "outputId": "b257e64c-f71a-45d9-f212-0592e714bc65"
      },
      "execution_count": null,
      "outputs": [
        {
          "output_type": "stream",
          "name": "stdout",
          "text": [
            "x_train:  (838,) \n",
            "x_test:  (210,) \n",
            "y_train:  (838,) \n",
            "y_test:  (210,)\n"
          ]
        }
      ]
    },
    {
      "cell_type": "code",
      "source": [
        "x_test"
      ],
      "metadata": {
        "colab": {
          "base_uri": "https://localhost:8080/"
        },
        "id": "qacGqvmXxGbo",
        "outputId": "6f618f66-9ac0-445b-c96b-374648eaa409"
      },
      "execution_count": null,
      "outputs": [
        {
          "output_type": "execute_result",
          "data": {
            "text/plain": [
              "array([[0.37222835],\n",
              "       [0.27811779],\n",
              "       [0.16303803],\n",
              "       [0.28112772],\n",
              "       [0.80355172],\n",
              "       [0.04534965],\n",
              "       [0.03963078],\n",
              "       [0.10655162],\n",
              "       [0.44326277],\n",
              "       [0.67944216],\n",
              "       [0.70081268],\n",
              "       [0.64171767],\n",
              "       [0.47837865],\n",
              "       [0.66459316],\n",
              "       [0.69449182],\n",
              "       [0.99307715],\n",
              "       [0.37584027],\n",
              "       [0.41677536],\n",
              "       [0.37965285],\n",
              "       [0.84850005],\n",
              "       [0.55894452],\n",
              "       [0.94020267],\n",
              "       [0.82452092],\n",
              "       [0.2136049 ],\n",
              "       [0.94311227],\n",
              "       [0.19795325],\n",
              "       [0.82030701],\n",
              "       [0.1297281 ],\n",
              "       [0.44968396],\n",
              "       [0.4985452 ],\n",
              "       [0.43423297],\n",
              "       [0.82421993],\n",
              "       [0.96077054],\n",
              "       [0.28383666],\n",
              "       [0.        ],\n",
              "       [0.96077054],\n",
              "       [0.50918029],\n",
              "       [0.95013545],\n",
              "       [0.56957961],\n",
              "       [0.94672419],\n",
              "       [0.2878499 ],\n",
              "       [0.21059496],\n",
              "       [0.56446273],\n",
              "       [0.6163339 ],\n",
              "       [0.81789907],\n",
              "       [0.06120197],\n",
              "       [0.05538276],\n",
              "       [0.40824722],\n",
              "       [0.93047055],\n",
              "       [0.3552724 ],\n",
              "       [0.16695094],\n",
              "       [0.19323768],\n",
              "       [0.45560349],\n",
              "       [0.34814889],\n",
              "       [0.3701214 ],\n",
              "       [0.45259356],\n",
              "       [0.28504063],\n",
              "       [0.11166851],\n",
              "       [0.27069329],\n",
              "       [0.18450888],\n",
              "       [0.50476573],\n",
              "       [0.48449885],\n",
              "       [0.99819404],\n",
              "       [0.13374135],\n",
              "       [0.45630581],\n",
              "       [0.77084378],\n",
              "       [0.48911408],\n",
              "       [0.05939601],\n",
              "       [0.21801946],\n",
              "       [0.43343032],\n",
              "       [0.447878  ],\n",
              "       [0.3836661 ],\n",
              "       [0.81438748],\n",
              "       [0.20537775],\n",
              "       [0.82191231],\n",
              "       [0.84147687],\n",
              "       [0.64201866],\n",
              "       [0.22032708],\n",
              "       [0.09852513],\n",
              "       [0.84167754],\n",
              "       [0.79953848],\n",
              "       [0.56807465],\n",
              "       [0.30099328],\n",
              "       [0.96879703],\n",
              "       [0.07896057],\n",
              "       [0.12250426],\n",
              "       [0.67552925],\n",
              "       [0.97250928],\n",
              "       [0.44978429],\n",
              "       [0.7266981 ],\n",
              "       [0.36079061],\n",
              "       [0.6343935 ],\n",
              "       [0.42751079],\n",
              "       [0.87920136],\n",
              "       [0.94040333],\n",
              "       [0.36299789],\n",
              "       [0.24149694],\n",
              "       [0.1226046 ],\n",
              "       [0.99799338],\n",
              "       [0.4207886 ],\n",
              "       [0.45148992],\n",
              "       [0.63178489],\n",
              "       [0.48389686],\n",
              "       [0.12310625],\n",
              "       [0.77164643],\n",
              "       [0.28754891],\n",
              "       [0.44988462],\n",
              "       [0.57078359],\n",
              "       [0.35005518],\n",
              "       [0.70823718],\n",
              "       [0.41998595],\n",
              "       [0.85181098],\n",
              "       [0.53857731],\n",
              "       [0.80716364],\n",
              "       [0.93789505],\n",
              "       [0.43955052],\n",
              "       [0.29005719],\n",
              "       [0.82351761],\n",
              "       [0.48118792],\n",
              "       [0.2446072 ],\n",
              "       [0.35567372],\n",
              "       [0.68064613],\n",
              "       [0.66399117],\n",
              "       [0.00531755],\n",
              "       [0.83204575],\n",
              "       [0.12220327],\n",
              "       [0.95434935],\n",
              "       [0.48269289],\n",
              "       [0.95585432],\n",
              "       [0.40082271],\n",
              "       [0.48178991],\n",
              "       [0.39791311],\n",
              "       [0.59697   ],\n",
              "       [0.42791211],\n",
              "       [0.38256246],\n",
              "       [0.25694793],\n",
              "       [0.15501154],\n",
              "       [0.64803853],\n",
              "       [0.35677737],\n",
              "       [0.8299388 ],\n",
              "       [0.64392495],\n",
              "       [0.83204575],\n",
              "       [0.43513595],\n",
              "       [0.77636199],\n",
              "       [0.21982542],\n",
              "       [0.66479382],\n",
              "       [0.37022173],\n",
              "       [0.1461824 ],\n",
              "       [0.08558242],\n",
              "       [0.95715862],\n",
              "       [0.72278519],\n",
              "       [0.53336009],\n",
              "       [0.49884619],\n",
              "       [0.55382763],\n",
              "       [0.22745059],\n",
              "       [0.96177385],\n",
              "       [0.22193238],\n",
              "       [0.21220026],\n",
              "       [0.07825825],\n",
              "       [0.70031103],\n",
              "       [0.53647035],\n",
              "       [0.51379553],\n",
              "       [0.42269489],\n",
              "       [0.93037022],\n",
              "       [0.22243403],\n",
              "       [0.63609913],\n",
              "       [0.47948229],\n",
              "       [0.80555834],\n",
              "       [0.21069529],\n",
              "       [0.63900873],\n",
              "       [0.96448279],\n",
              "       [0.34744657],\n",
              "       [0.44286144],\n",
              "       [0.05407846],\n",
              "       [0.59506371],\n",
              "       [0.79793318],\n",
              "       [0.11979532],\n",
              "       [0.67904083],\n",
              "       [0.30179593],\n",
              "       [0.39389987],\n",
              "       [0.21420688],\n",
              "       [0.87468647],\n",
              "       [0.3404234 ],\n",
              "       [0.1849102 ],\n",
              "       [0.49994983],\n",
              "       [0.42008628],\n",
              "       [0.07976322],\n",
              "       [0.05889435],\n",
              "       [0.49122103],\n",
              "       [0.04213906],\n",
              "       [0.38667603],\n",
              "       [0.70001003],\n",
              "       [0.44617237],\n",
              "       [0.20417377],\n",
              "       [0.70813685],\n",
              "       [0.66399117],\n",
              "       [0.90719374],\n",
              "       [0.86665998],\n",
              "       [0.85722886],\n",
              "       [0.56085081],\n",
              "       [0.35707836],\n",
              "       [0.67271998],\n",
              "       [0.87669309],\n",
              "       [0.43533661],\n",
              "       [0.35186114],\n",
              "       [0.49613725],\n",
              "       [0.45429919],\n",
              "       [0.54800843],\n",
              "       [0.36570683],\n",
              "       [0.53958062]])"
            ]
          },
          "metadata": {},
          "execution_count": 87
        }
      ]
    },
    {
      "cell_type": "code",
      "source": [
        "X_train"
      ],
      "metadata": {
        "colab": {
          "base_uri": "https://localhost:8080/"
        },
        "id": "7Ha7crPI5ZX-",
        "outputId": "560d6382-11d1-4bb9-f444-ace25cc2082c"
      },
      "execution_count": null,
      "outputs": [
        {
          "output_type": "execute_result",
          "data": {
            "text/plain": [
              "190     1998\n",
              "879     2016\n",
              "825     2015\n",
              "1032    2021\n",
              "145     1996\n",
              "        ... \n",
              "1033    2021\n",
              "763     2013\n",
              "835     2015\n",
              "559     2008\n",
              "684     2011\n",
              "Name: Year, Length: 838, dtype: int64"
            ]
          },
          "metadata": {},
          "execution_count": 88
        }
      ]
    },
    {
      "cell_type": "code",
      "source": [
        "from sklearn.linear_model import LinearRegression\n",
        "from sklearn.preprocessing import StandardScaler\n",
        "from sklearn.metrics import mean_squared_error\n",
        "\n",
        "lr = LinearRegression()\n",
        "lr.fit(x_train, y_train)\n",
        "print(\"Lineer...................\")\n",
        "\n",
        "pred_train_lr= lr.predict(x_train)\n",
        "print('train Root MSE: ',np.sqrt(mean_squared_error(y_train,pred_train_lr)))\n",
        "print('train R**2 score: ',r2_score(y_train, pred_train_lr))\n",
        "\n",
        "pred_test_lr= lr.predict(x_test)\n",
        "print('test Root MSE: ',np.sqrt(mean_squared_error(y_test,pred_test_lr)))\n",
        "print('test R**2 score: ',r2_score(y_test, pred_test_lr))"
      ],
      "metadata": {
        "colab": {
          "base_uri": "https://localhost:8080/"
        },
        "id": "q7Ri1RpfullU",
        "outputId": "64854727-8b43-4455-9ce4-73ff20028b09"
      },
      "execution_count": null,
      "outputs": [
        {
          "output_type": "stream",
          "name": "stdout",
          "text": [
            "Lineer...................\n",
            "train Root MSE:  7.088290534862479e-17\n",
            "train R**2 score:  1.0\n",
            "test Root MSE:  6.820755665632517e-17\n",
            "test R**2 score:  1.0\n"
          ]
        }
      ]
    }
  ]
}